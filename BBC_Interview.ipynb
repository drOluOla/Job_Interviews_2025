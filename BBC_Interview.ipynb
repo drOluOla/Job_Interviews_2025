{
  "nbformat": 4,
  "nbformat_minor": 0,
  "metadata": {
    "colab": {
      "provenance": [],
      "authorship_tag": "ABX9TyNUPrD05KIw6sNY1cb+/rTZ",
      "include_colab_link": true
    },
    "kernelspec": {
      "name": "python3",
      "display_name": "Python 3"
    },
    "language_info": {
      "name": "python"
    }
  },
  "cells": [
    {
      "cell_type": "markdown",
      "metadata": {
        "id": "view-in-github",
        "colab_type": "text"
      },
      "source": [
        "<a href=\"https://colab.research.google.com/github/drOluOla/Senior_Principal_Data_Scientist_NLP/blob/main/BBC_Interview.ipynb\" target=\"_parent\"><img src=\"https://colab.research.google.com/assets/colab-badge.svg\" alt=\"Open In Colab\"/></a>"
      ]
    },
    {
      "cell_type": "markdown",
      "source": [
        "### Table of Content\n",
        "\n",
        "#### MLOPs\n",
        "  - Conventional MLOPs\n",
        "  - NLP/VLLMs MLOPs\n",
        "\n",
        "#### Coding Challenge\n",
        "  - Python Basics\n",
        "  - Pytorch/Tensorflow Basics\n",
        "  - Data Structures vs Algorithms\n",
        "  - Hacker Rank Questions\n",
        "    - https://www.hackerrank.com/challenges/from-paragraphs-to-sentences/problem\n",
        "  - NLP Basics\n"
      ],
      "metadata": {
        "id": "3WICyVOYcMR0"
      }
    },
    {
      "cell_type": "code",
      "source": [
        "# From https://machinelearningmastery.com/the-attention-mechanism-from-scratch/\n",
        "\n",
        "from numpy import array\n",
        "from numpy import random\n",
        "from numpy import dot\n",
        "from scipy.special import softmax\n",
        "\n",
        "# encoder representations of four different words\n",
        "word_1 = array([1, 0, 0])\n",
        "word_2 = array([0, 1, 0])\n",
        "word_3 = array([1, 1, 0])\n",
        "word_4 = array([0, 0, 1])\n",
        "\n",
        "# stacking the word embeddings into a single array\n",
        "words = array([word_1, word_2, word_3, word_4])\n",
        "\n",
        "# generating the weight matrices\n",
        "random.seed(42)\n",
        "W_Q = random.randint(3, size=(3, 3))\n",
        "W_K = random.randint(3, size=(3, 3))\n",
        "W_V = random.randint(3, size=(3, 3))\n",
        "\n",
        "# generating the queries, keys and values\n",
        "Q = words @ W_Q\n",
        "K = words @ W_K\n",
        "V = words @ W_V\n",
        "\n",
        "# scoring the query vectors against all key vectors\n",
        "scores = Q @ K.transpose()\n",
        "\n",
        "# computing the weights by a softmax operation\n",
        "weights = softmax(scores / K.shape[1] ** 0.5, axis=1)\n",
        "\n",
        "# computing the attention by a weighted sum of the value vectors\n",
        "attention = weights @ V\n",
        "\n",
        "print(attention)"
      ],
      "metadata": {
        "id": "3qATrsEB9J_Y",
        "colab": {
          "base_uri": "https://localhost:8080/"
        },
        "outputId": "dcb517c8-768e-472f-a97f-2d48b92f7aee"
      },
      "execution_count": 1,
      "outputs": [
        {
          "output_type": "stream",
          "name": "stdout",
          "text": [
            "[[0.98522025 1.74174051 0.75652026]\n",
            " [0.90965265 1.40965265 0.5       ]\n",
            " [0.99851226 1.75849334 0.75998108]\n",
            " [0.99560386 1.90407309 0.90846923]]\n"
          ]
        }
      ]
    },
    {
      "cell_type": "code",
      "source": [],
      "metadata": {
        "id": "Fvgra4F_1p0P"
      },
      "execution_count": null,
      "outputs": []
    }
  ]
}