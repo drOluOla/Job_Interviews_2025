{
  "nbformat": 4,
  "nbformat_minor": 0,
  "metadata": {
    "colab": {
      "provenance": [],
      "authorship_tag": "ABX9TyM1cZZY80lTtk47vnF8eveY",
      "include_colab_link": true
    },
    "kernelspec": {
      "name": "python3",
      "display_name": "Python 3"
    },
    "language_info": {
      "name": "python"
    }
  },
  "cells": [
    {
      "cell_type": "markdown",
      "metadata": {
        "id": "view-in-github",
        "colab_type": "text"
      },
      "source": [
        "<a href=\"https://colab.research.google.com/github/drOluOla/Senior_Principal_Data_Scientist_NLP/blob/main/BBC_Interview.ipynb\" target=\"_parent\"><img src=\"https://colab.research.google.com/assets/colab-badge.svg\" alt=\"Open In Colab\"/></a>"
      ]
    },
    {
      "cell_type": "markdown",
      "source": [
        "### Table of Content\n",
        "\n",
        "#### MLOPs\n",
        "  - Conventional MLOPs\n",
        "  - NLP/VLLMs MLOPs\n",
        "\n",
        "#### Coding Challenge\n",
        "  - Python Basics\n",
        "  - Pytorch/Tensorflow Basics\n",
        "  - Data Structures vs Algorithms\n",
        "  - Hacker Rank Questions\n",
        "    - https://www.hackerrank.com/challenges/from-paragraphs-to-sentences/problem\n",
        "  - NLP Basics\n"
      ],
      "metadata": {
        "id": "3WICyVOYcMR0"
      }
    },
    {
      "cell_type": "code",
      "source": [],
      "metadata": {
        "id": "3qATrsEB9J_Y"
      },
      "execution_count": null,
      "outputs": []
    }
  ]
}