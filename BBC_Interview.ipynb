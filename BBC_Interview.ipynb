{
  "nbformat": 4,
  "nbformat_minor": 0,
  "metadata": {
    "colab": {
      "provenance": [],
      "authorship_tag": "ABX9TyOmWwdLFdk9Ek9n02ayvFhS",
      "include_colab_link": true
    },
    "kernelspec": {
      "name": "python3",
      "display_name": "Python 3"
    },
    "language_info": {
      "name": "python"
    }
  },
  "cells": [
    {
      "cell_type": "markdown",
      "metadata": {
        "id": "view-in-github",
        "colab_type": "text"
      },
      "source": [
        "<a href=\"https://colab.research.google.com/github/drOluOla/Senior_Principal_Data_Scientist_NLP/blob/main/BBC_Interview.ipynb\" target=\"_parent\"><img src=\"https://colab.research.google.com/assets/colab-badge.svg\" alt=\"Open In Colab\"/></a>"
      ]
    },
    {
      "cell_type": "markdown",
      "source": [
        "### Table of Content\n",
        "#### MLOPs\n",
        "  - Conventional MLOPs\n",
        "  - NLP/VLLMs MLOPs\n",
        "\n",
        "#### Coding Challenge\n",
        "  - Python Basics\n",
        "  - Pytorch/Tensorflow Basics\n",
        "  - Data Structures vs Algorithms\n",
        "  - Hacker Rank Questions\n",
        "    - https://www.hackerrank.com/challenges/from-paragraphs-to-sentences/problem\n",
        "  - NLP Basics\n",
        "\n",
        "#### Culture Fit\n",
        "- Values\n",
        "  - https://performancemanager.successfactors.eu/S001190811T2/Our_BBC_Values.pdf\n",
        "  - How have you dealt with difficult situations at work\n",
        "    - *Audience*\n",
        "        - *Champion all audiences and customers,\n",
        "        put their interests at the heart of\n",
        "        everything you do*\n",
        "    - *Trust*\n",
        "        - *Be an ambassador for the BBC, be ethical,\n",
        "        impartial and truthful in all that you do and\n",
        "        speak up when you have concerns about\n",
        "        unethical practice*\n",
        "        - *Actively build strong relationships based\n",
        "        on openness, honesty and trust*\n",
        "    - *Respect*\n",
        "        - *Bring your full attention to people and\n",
        "        situations recognising and understanding\n",
        "        others’ emotions, ideas and perspectives*\n",
        "        - *Individual and collective high performance\n",
        "        matters. Be commercially aware,\n",
        "        environmentally responsible and results\n",
        "        focused*\n",
        "    - *One BBC*\n",
        "        - *Act, think and collaborate as one BBC. Take\n",
        "        into account the needs and priorities of\n",
        "        others and the broader organisation when\n",
        "        planning and taking action*"
      ],
      "metadata": {
        "id": "3WICyVOYcMR0"
      }
    }
  ]
}