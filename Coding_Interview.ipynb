{
  "nbformat": 4,
  "nbformat_minor": 0,
  "metadata": {
    "colab": {
      "provenance": [],
      "toc_visible": true,
      "authorship_tag": "ABX9TyPM5HVlIF65/AGLFcwtEGfI",
      "include_colab_link": true
    },
    "kernelspec": {
      "name": "python3",
      "display_name": "Python 3"
    },
    "language_info": {
      "name": "python"
    }
  },
  "cells": [
    {
      "cell_type": "markdown",
      "metadata": {
        "id": "view-in-github",
        "colab_type": "text"
      },
      "source": [
        "<a href=\"https://colab.research.google.com/github/drOluOla/Job_Interviews_2025/blob/main/Coding_Interview.ipynb\" target=\"_parent\"><img src=\"https://colab.research.google.com/assets/colab-badge.svg\" alt=\"Open In Colab\"/></a>"
      ]
    },
    {
      "cell_type": "markdown",
      "source": [
        "## Warm ups"
      ],
      "metadata": {
        "id": "I62RcC2MBpaa"
      }
    },
    {
      "cell_type": "markdown",
      "source": [],
      "metadata": {
        "id": "mSwbaotsIWua"
      }
    },
    {
      "cell_type": "code",
      "source": [
        "n = [1,2,3,4,5,6,7,8,9,10]\n",
        "print(len(n))\n",
        "print(range(len(n))) # Generates a sequence of numbers.\n",
        "print(len(range(len(n))))\n",
        "print(range(1, len(n)))\n",
        "print(range(1, len(n) - 1)) # len(n) - 1 is the index of last elment because of zero indexing\n",
        "\n",
        "m = [10, 11, 12, 13, 14, 15, 16, 17, 18]\n",
        "k = zip(n, m) # function in Python is a built-in function that allows you to combine multiple iterables into a single iterable of tuples.\n",
        "print(\"This is K dictionary ===>\")\n",
        "print(dict(k))\n",
        "\n",
        "k = lambda a,b: a + b # anonymous functions that can have any number of arguments but can only have one expression.\n",
        "print(\"This is K lamdbda'd ===>\")\n",
        "print(k(1,2))\n",
        "\n",
        "l = list(map((lambda x, y: x * y), n, m)) # applying a function to each element of an iterable. In the case of your example:\n",
        "print(\"This is l mapped ===>\")\n",
        "print((l))\n"
      ],
      "metadata": {
        "id": "WOjRuQP8EKKf"
      },
      "execution_count": null,
      "outputs": []
    },
    {
      "cell_type": "markdown",
      "source": [
        "## Common Points\n",
        "- range\n",
        "- zip\n",
        "- lambda\n",
        "- map\n",
        "- last index\n",
        "  - len(nums) - 1\n",
        "- Decrementing from last index\n",
        "  - len(nums) - 1 - i\n",
        "- Elements in a list\n",
        "  - for i in nums\n",
        "- Index of elements in a list\n",
        "  - for i in range(len(nums))\n",
        "- Initialising key & assigning values at same time\n",
        "  - count[key] = value (No key errors because key is being initialized to)\n",
        "  - value = count[key] (key errors if key doesn't exist yet in dict)\n",
        "- Turle immutability\n",
        "  - t[0] = 1 (will error)\n",
        "- Complexity\n",
        "  - Single loop -> O(n)\n",
        "  - Nested loops -> O(n**2)\n",
        "  - halfing loops -> O(logn) e.g. while loops that divides the exiting condition\n",
        "  - dictionary lookup -> O(1)"
      ],
      "metadata": {
        "id": "14XdGXZUkt25"
      }
    },
    {
      "cell_type": "markdown",
      "source": [
        "## Reversals"
      ],
      "metadata": {
        "id": "HZ8jLYt5KtV-"
      }
    },
    {
      "cell_type": "markdown",
      "source": [
        "#### Reverse list"
      ],
      "metadata": {
        "id": "J5yzSav18boX"
      }
    },
    {
      "cell_type": "code",
      "source": [
        "def reverse_list_nested(lst):\n",
        "    # Create an empty list to store the reversed elements\n",
        "    reversed_lst = []\n",
        "\n",
        "    # Outer loop will run for each iteration to build the reversed list\n",
        "    for i in range(len(lst)):\n",
        "        # Inner loop to find the last remaining element\n",
        "        for j in range(len(lst)):\n",
        "            # Check if this is the last element that hasn't been added yet\n",
        "            if j == len(lst) - 1 - i:\n",
        "                # Add the last element to the reversed list\n",
        "                reversed_lst.append(lst[j])\n",
        "                break\n",
        "\n",
        "    return reversed_lst\n",
        "\n",
        "\n",
        "def reverse_list(lst):\n",
        "    length = len(lst)\n",
        "    for i in range(length // 2):\n",
        "        lst[i], lst[length - 1 - i] = lst[length - 1 - i], lst[i]\n",
        "    return lst\n",
        "\n",
        "original_list = [1, 2, 3, 4, 5]\n",
        "reversed_list = reverse_list(original_list)\n",
        "print(reversed_list)\n",
        "\n",
        "\n",
        "\n",
        "\n",
        "def reverse_list(lst):\n",
        "    left = 0\n",
        "    right = len(lst) - 1\n",
        "\n",
        "    while left < right:\n",
        "        # Swap elements at left and right pointers\n",
        "        lst[left], lst[right] = lst[right], lst[left]\n",
        "\n",
        "        # Move pointers towards the center\n",
        "        left += 1\n",
        "        right -= 1\n",
        "\n",
        "    return lst\n",
        "\n",
        "# Example usage\n",
        "original_list = [1, 2, 3, 4, 5]\n",
        "reversed_list = reverse_list(original_list)\n",
        "print(reversed_list)"
      ],
      "metadata": {
        "colab": {
          "base_uri": "https://localhost:8080/"
        },
        "id": "3NGauvKJ8duo",
        "outputId": "261859b4-07c1-45fe-f8eb-9b54d6ebe228"
      },
      "execution_count": null,
      "outputs": [
        {
          "output_type": "stream",
          "name": "stdout",
          "text": [
            "[5, 4, 3, 2, 1]\n",
            "[5, 4, 3, 2, 1]\n"
          ]
        }
      ]
    },
    {
      "cell_type": "markdown",
      "source": [
        "#### Reverse Integer"
      ],
      "metadata": {
        "id": "TxCFBfLaI-tw"
      }
    },
    {
      "cell_type": "code",
      "source": [
        "# My first brute force solution\n",
        "class Solution(object):\n",
        "    def reverse(self, x):\n",
        "        \"\"\"\n",
        "        :type x: int\n",
        "        :rtype: int\n",
        "        \"\"\"\n",
        "        x_strg = str(x)\n",
        "        x_txt = list(x_strg)\n",
        "\n",
        "        for i in range(len(x_txt)//2):\n",
        "            x_txt[i], x_txt[len(x_txt) - 1 - i] = x_txt[len(x_txt) - 1 - i], x_txt[i]\n",
        "\n",
        "        x_txt = ''.join(x_txt)\n",
        "        # check is the reversed string has \"-\" as the last character\n",
        "        if x_txt[-1] == '-':\n",
        "          # Delete the last xter which is \"-\"\n",
        "          x_txt = '-' + x_txt[:-1]\n",
        "        x_int = int(x_txt)\n",
        "\n",
        "        if x_int > 2**31 - 1 or x_int < -2**31:\n",
        "            return 0\n",
        "        return x_int\n",
        "\n",
        "solution = Solution()\n",
        "result = solution.reverse(x=-123)\n",
        "print(result)\n"
      ],
      "metadata": {
        "id": "VIbb5dNM-Rvv",
        "colab": {
          "base_uri": "https://localhost:8080/"
        },
        "outputId": "b905333e-d49c-4071-f9bb-e902b9d36d8d"
      },
      "execution_count": null,
      "outputs": [
        {
          "output_type": "stream",
          "name": "stdout",
          "text": [
            "-321\n"
          ]
        }
      ]
    },
    {
      "cell_type": "code",
      "source": [
        "# Neater version by AI\n",
        "class Solution(object):\n",
        "    def reverse(self, x):\n",
        "        \"\"\"\n",
        "        :type x: int\n",
        "        :rtype: int\n",
        "        \"\"\"\n",
        "        # Handle the sign\n",
        "        sign = -1 if x < 0 else 1\n",
        "        x = abs(x)\n",
        "\n",
        "        # Convert to string and reverse\n",
        "        x_strg = str(x)\n",
        "        x_txt = list(x_strg)\n",
        "\n",
        "        for i in range(len(x_txt)//2):\n",
        "            x_txt[i], x_txt[len(x_txt) - 1 - i] = x_txt[len(x_txt) - 1 - i], x_txt[i]\n",
        "\n",
        "        x_txt = ''.join(x_txt)\n",
        "\n",
        "        # Convert back to integer and apply the sign\n",
        "        x_int = sign * int(x_txt)\n",
        "\n",
        "        # Check for overflow\n",
        "        if x_int > 2**31 - 1 or x_int < -2**31:\n",
        "            return 0\n",
        "        return x_int\n",
        "\n",
        "solution = Solution()\n",
        "result = solution.reverse(x=-123)\n",
        "print(result)"
      ],
      "metadata": {
        "id": "cZqVUyXxDmrZ",
        "colab": {
          "base_uri": "https://localhost:8080/"
        },
        "outputId": "57db0731-948f-48b6-bb19-06589066abf5"
      },
      "execution_count": null,
      "outputs": [
        {
          "output_type": "stream",
          "name": "stdout",
          "text": [
            "-321\n"
          ]
        }
      ]
    },
    {
      "cell_type": "code",
      "source": [
        "## Much cooler solution\n",
        "## Intuition is to reverse the number digit by digit using some special arithmetic operations to simulate pop and push\n",
        "\n",
        "class Solution(object):\n",
        "    def reverse(self, x):\n",
        "        # Store the sign of the original number\n",
        "        sign = 1 if x > 0 else -1\n",
        "\n",
        "        # Convert to positive for easier manipulation\n",
        "        x = abs(x)\n",
        "\n",
        "        # Reverse the digits\n",
        "        reversed_num = 0\n",
        "        while x != 0:\n",
        "            digit = x % 10 # extract the last digit\n",
        "            reversed_num = reversed_num * 10 + digit # push to back of the number\n",
        "            x //= 10 # pop the last digit\n",
        "\n",
        "        # Apply the original sign\n",
        "        result = sign * reversed_num\n",
        "\n",
        "        # Check if the result is within the 32-bit signed integer range\n",
        "        if result > 2**31 - 1 or result < -2**31:\n",
        "            return 0\n",
        "\n",
        "        return result\n",
        "\n",
        "solution = Solution()\n",
        "result = solution.reverse(x=-123)\n",
        "print(result)"
      ],
      "metadata": {
        "colab": {
          "base_uri": "https://localhost:8080/"
        },
        "id": "5RN1fiUAeHgj",
        "outputId": "f6c6d68b-12b0-481a-99fe-0e55633b9360"
      },
      "execution_count": null,
      "outputs": [
        {
          "output_type": "stream",
          "name": "stdout",
          "text": [
            "-321\n"
          ]
        }
      ]
    },
    {
      "cell_type": "markdown",
      "source": [
        "#### Reverse String"
      ],
      "metadata": {
        "id": "vliPQenoaYLo"
      }
    },
    {
      "cell_type": "code",
      "source": [
        "## Bonus for strings\n",
        "# This technique is called \"prepending\" or \"front addition.\" It's a simple but clever approach to string reversal.\n",
        "# First read becomes last appened and vice versa\n",
        "\n",
        "class Solution(object):\n",
        "    def reverse(self, s):\n",
        "        \"\"\"\n",
        "        :type s: str\n",
        "        :rtype: str\n",
        "        \"\"\"\n",
        "        reversed = \"\"\n",
        "        for char in s:\n",
        "            reversed = char + reversed\n",
        "        return reversed\n",
        "\n",
        "\n",
        "\n",
        "solution = Solution()\n",
        "result = solution.reverse(s=\"who goes that man\")\n",
        "print(result)"
      ],
      "metadata": {
        "colab": {
          "base_uri": "https://localhost:8080/"
        },
        "id": "jlKGheeFeRZr",
        "outputId": "9ba4f842-c45a-4d11-b30d-2f67e4f30b0e"
      },
      "execution_count": null,
      "outputs": [
        {
          "output_type": "stream",
          "name": "stdout",
          "text": [
            "nam taht seog ohw\n"
          ]
        }
      ]
    },
    {
      "cell_type": "markdown",
      "source": [
        "## Palindrome"
      ],
      "metadata": {
        "id": "DvRMkGrqx8k2"
      }
    },
    {
      "cell_type": "markdown",
      "source": [
        "#### Is a Palindrome"
      ],
      "metadata": {
        "id": "FkV39knrJHdW"
      }
    },
    {
      "cell_type": "code",
      "source": [
        "class Solution:\n",
        "  def is_palindrome(self, string):\n",
        "      left = 0\n",
        "      right = len(string) - 1\n",
        "      while left < right:\n",
        "          if string[left] != string[right]:\n",
        "              return False\n",
        "          left += 1\n",
        "          right -= 1\n",
        "      return True\n",
        "\n",
        "solution = Solution()\n",
        "result = solution.is_palindrome(\"abba\")\n",
        "print(result)"
      ],
      "metadata": {
        "colab": {
          "base_uri": "https://localhost:8080/"
        },
        "outputId": "5f825daf-625b-432f-fbc0-a6f89e167345",
        "id": "AyMr3kmCJHdX"
      },
      "execution_count": null,
      "outputs": [
        {
          "output_type": "stream",
          "name": "stdout",
          "text": [
            "True\n"
          ]
        }
      ]
    },
    {
      "cell_type": "markdown",
      "source": [
        "#### Longest Palindrome\n",
        "Given a string s, return the longest palindromic substring in s."
      ],
      "metadata": {
        "id": "0K5jMWRJJHdX"
      }
    },
    {
      "cell_type": "code",
      "source": [
        "class Solution:\n",
        "    def longestPalindrome(self, word: str) -> str:\n",
        "        def is_palindrome(sub):\n",
        "            left = 0\n",
        "            right = len(sub) - 1\n",
        "            while left < right:\n",
        "                if sub[left] != sub[right]:\n",
        "                    return False\n",
        "                left += 1\n",
        "                right -= 1\n",
        "            return True\n",
        "\n",
        "        for length in range(len(word), 0, -1):\n",
        "            for start in range(len(word) - length + 1):\n",
        "                if is_palindrome(word[start : start + length]):\n",
        "                    return word[start : start + length]\n",
        "\n",
        "        return \"\"\n",
        "\n",
        "\n",
        "solution = Solution()\n",
        "result = solution.longestPalindrome(\"baabaaad\")\n",
        "print(result)"
      ],
      "metadata": {
        "colab": {
          "base_uri": "https://localhost:8080/"
        },
        "outputId": "c1412ac7-82c7-4ff7-d49a-f02c0d3155b2",
        "id": "7vbIVRE4JHdX"
      },
      "execution_count": null,
      "outputs": [
        {
          "output_type": "stream",
          "name": "stdout",
          "text": [
            "aabaa\n"
          ]
        }
      ]
    },
    {
      "cell_type": "code",
      "source": [
        "class Solution:\n",
        "    def longestPalindrome(self, s: str) -> str:\n",
        "        for length in range(len(s), 0, -1):\n",
        "            for start in range(len(s) - length + 1):\n",
        "                left = start\n",
        "                right = start + length - 1\n",
        "                is_palindrome = True\n",
        "\n",
        "                while left < right:\n",
        "                    if s[left] != s[right]:\n",
        "                        is_palindrome = False\n",
        "                        break\n",
        "                    left += 1\n",
        "                    right -= 1\n",
        "\n",
        "                if is_palindrome:\n",
        "                    return s[start : start + length]\n",
        "\n",
        "        return \"\"\n",
        "\n",
        "# Test the solution\n",
        "solution = Solution()\n",
        "result = solution.longestPalindrome(\"babad\")\n",
        "print(result)"
      ],
      "metadata": {
        "colab": {
          "base_uri": "https://localhost:8080/"
        },
        "outputId": "2fd6a45d-7970-4c00-bd62-e2fe2d6f55ef",
        "id": "AgczjgUNJHdX"
      },
      "execution_count": null,
      "outputs": [
        {
          "output_type": "stream",
          "name": "stdout",
          "text": [
            "bab\n"
          ]
        }
      ]
    },
    {
      "cell_type": "markdown",
      "source": [
        "## isAnagram"
      ],
      "metadata": {
        "id": "gfai7mIdDjiq"
      }
    },
    {
      "cell_type": "code",
      "source": [
        "# Brute force\n",
        "def isAnagram(s: str, t: str) -> bool:\n",
        "    # If lengths differ, they can't be anagrams\n",
        "    if len(s) != len(t):\n",
        "        return False\n",
        "\n",
        "    # Sort both strings and compare\n",
        "    return sorted(s) == sorted(t)\n",
        "\n",
        "print(isAnagram(\"stops\", \"tsops\"))"
      ],
      "metadata": {
        "colab": {
          "base_uri": "https://localhost:8080/"
        },
        "id": "GcjzhFd8iGVA",
        "outputId": "3cb3d530-1122-405c-e4e5-35b49a7553ee"
      },
      "execution_count": null,
      "outputs": [
        {
          "output_type": "stream",
          "name": "stdout",
          "text": [
            "True\n"
          ]
        }
      ]
    },
    {
      "cell_type": "code",
      "source": [
        "class Solution:\n",
        "    def isAnagram(self, s: str, t: str) -> bool:\n",
        "        if len(s) != len(t):\n",
        "            return False\n",
        "\n",
        "        countS, countT = {}, {}\n",
        "\n",
        "        for i in range(len(s)):\n",
        "            countS[s[i]] = 1 + countS.get(s[i], 0)\n",
        "            countT[t[i]] = 1 + countT.get(t[i], 0)\n",
        "\n",
        "        return countS == countT\n",
        "\n",
        "# Example usage\n",
        "solution = Solution()\n",
        "print(solution.isAnagram(\"stops\", \"tsops\"))  # True"
      ],
      "metadata": {
        "colab": {
          "base_uri": "https://localhost:8080/"
        },
        "id": "0I71X_r0MMhS",
        "outputId": "ddebfdb7-18af-4c2e-a439-2f66bcb2d4db"
      },
      "execution_count": null,
      "outputs": [
        {
          "output_type": "stream",
          "name": "stdout",
          "text": [
            "True\n"
          ]
        }
      ]
    },
    {
      "cell_type": "markdown",
      "source": [
        "## Greater than element"
      ],
      "metadata": {
        "id": "1J5vnP6A8WgV"
      }
    },
    {
      "cell_type": "code",
      "source": [
        "class Solution(object):\n",
        "    def greaterThanElement(self, nums, ele):\n",
        "      greater_list = []\n",
        "      # return all list of numbers greater than ele\n",
        "      for num in nums:\n",
        "        if num > ele:\n",
        "          greater_list.append(num)\n",
        "      return greater_list\n",
        "\n",
        "      # neater solution\n",
        "      ## return [num for num in nums if num > ele]\n",
        "      ##return greater_list\n",
        "\n",
        "\n",
        "\n",
        "## Test\n",
        "solution = Solution()\n",
        "result = solution.greaterThanElement([1,2,6,3,4,5], 4)\n",
        "print(result)"
      ],
      "metadata": {
        "colab": {
          "base_uri": "https://localhost:8080/"
        },
        "id": "V33wVcIu8zIY",
        "outputId": "17ebb752-a46d-4b5f-94da-3bd5b2435e09"
      },
      "execution_count": null,
      "outputs": [
        {
          "output_type": "stream",
          "name": "stdout",
          "text": [
            "[6, 5]\n"
          ]
        }
      ]
    },
    {
      "cell_type": "markdown",
      "source": [
        "## Two sums"
      ],
      "metadata": {
        "id": "5HT_7NKiQLMP"
      }
    },
    {
      "cell_type": "code",
      "source": [
        "# I would have done this for a brute force approach\n",
        "class Solution(object):\n",
        "    def twoSum(self, nums, target):\n",
        "      for i in nums:\n",
        "        for j in nums:\n",
        "          if i + j == target:\n",
        "            return [nums.index(i), nums.index(j)]\n",
        "      return []\n",
        "\n",
        "solution = Solution()\n",
        "result = solution.twoSum(nums=[11,15,3,7], target=10)\n",
        "print(result)"
      ],
      "metadata": {
        "id": "sv5pmzSsO4sl",
        "colab": {
          "base_uri": "https://localhost:8080/"
        },
        "outputId": "8866b8cc-87cf-4162-deac-0fd373b8b654"
      },
      "execution_count": null,
      "outputs": [
        {
          "output_type": "stream",
          "name": "stdout",
          "text": [
            "[2, 3]\n"
          ]
        }
      ]
    },
    {
      "cell_type": "code",
      "source": [
        "# NB: When you do \"for x in range(nums):\" x will effectively be the indices\n",
        "# versus when you do \"for x in nums\": where x will be the elements themselves"
      ],
      "metadata": {
        "id": "UBM9Y3tWPs3i"
      },
      "execution_count": null,
      "outputs": []
    },
    {
      "cell_type": "code",
      "source": [
        "class Solution:\n",
        "    def twoSum(self, nums, target):\n",
        "        n = len(nums)\n",
        "        for i in range(n - 1):\n",
        "            for j in range(i + 1, n):\n",
        "                if nums[i] + nums[j] == target:\n",
        "                    return [i, j]\n",
        "        return []  # No solution found\n",
        "\n",
        "solution = Solution()\n",
        "result = solution.twoSum(nums=[11,15,3,7], target=10)\n",
        "print(result)"
      ],
      "metadata": {
        "id": "sWk7PqVjQtWz",
        "colab": {
          "base_uri": "https://localhost:8080/"
        },
        "outputId": "e741c616-04e3-47e6-9cc3-6af5dfe4b59d"
      },
      "execution_count": null,
      "outputs": [
        {
          "output_type": "stream",
          "name": "stdout",
          "text": [
            "[2, 3]\n"
          ]
        }
      ]
    },
    {
      "cell_type": "code",
      "execution_count": null,
      "metadata": {
        "id": "VRdbtCc822GP",
        "colab": {
          "base_uri": "https://localhost:8080/"
        },
        "outputId": "e7e13a9c-d465-4083-a685-11606ed08b77"
      },
      "outputs": [
        {
          "output_type": "stream",
          "name": "stdout",
          "text": [
            "[0, 1]\n"
          ]
        }
      ],
      "source": [
        "class Solution:\n",
        "    def twoSum(self, nums, target):\n",
        "        num_to_index = {}\n",
        "\n",
        "        for index, num in enumerate(nums):\n",
        "            complement = target - num\n",
        "\n",
        "            if complement in num_to_index:\n",
        "                return [num_to_index[complement], index]\n",
        "\n",
        "            num_to_index[num] = index\n",
        "\n",
        "        return []  # No solution found\n",
        "\n",
        "# Example usage\n",
        "solution = Solution()\n",
        "result = solution.twoSum([2, 7, 11, 15], 9)\n",
        "print(result)\n",
        "\n"
      ]
    },
    {
      "cell_type": "code",
      "source": [
        "# Using .get() in dictionary\n",
        "class Solution:\n",
        "    def twoSum(self, nums, target):\n",
        "        num_to_index = {}\n",
        "\n",
        "        for index, num in enumerate(nums):\n",
        "            complement = target - num\n",
        "\n",
        "            complement_index = num_to_index.get(complement)\n",
        "            if complement_index is not None:\n",
        "                return [complement_index, index]\n",
        "\n",
        "            num_to_index[num] = index\n",
        "\n",
        "        return []"
      ],
      "metadata": {
        "id": "oqdsI3bBrOXZ"
      },
      "execution_count": null,
      "outputs": []
    },
    {
      "cell_type": "code",
      "source": [
        "solution = Solution()\n",
        "result = solution.twoSum(nums=[4,3,11,15,7], target=10)\n",
        "print(result)"
      ],
      "metadata": {
        "colab": {
          "base_uri": "https://localhost:8080/"
        },
        "id": "apnscgJW45eS",
        "outputId": "08325a22-1929-4b33-a781-294ce57e64d2"
      },
      "execution_count": null,
      "outputs": [
        {
          "output_type": "stream",
          "name": "stdout",
          "text": [
            "[1, 4]\n"
          ]
        }
      ]
    },
    {
      "cell_type": "markdown",
      "source": [
        "## Minimum Sub Array\n",
        "Given an array of positive integers nums and a positive integer target, our task is to return the minimal length of a subarray whose sum is greater than or equal to target. If there is no such subarray, we have to return 0."
      ],
      "metadata": {
        "id": "w_MIm07rQnOJ"
      }
    },
    {
      "cell_type": "code",
      "source": [
        "class Solution:\n",
        "    def min_subarray_length(self, target: int, nums: list[int]) -> int:\n",
        "        # Initialize variables\n",
        "        window_start = 0\n",
        "        window_sum = 0\n",
        "        min_length = float('inf')\n",
        "\n",
        "        # Iterate through the array using window_end as the right boundary\n",
        "        for window_end in range(len(nums)):\n",
        "            # Add the current element to the window sum\n",
        "            window_sum += nums[window_end]\n",
        "\n",
        "            # Shrink the window as long as the sum is greater than or equal to the target\n",
        "            while window_sum >= target:\n",
        "                # Update the minimum length if current window is smaller\n",
        "                current_length = window_end - window_start + 1\n",
        "                min_length = min(min_length, current_length)\n",
        "\n",
        "                # Remove the leftmost element from the window\n",
        "                window_sum -= nums[window_start]\n",
        "                window_start += 1\n",
        "\n",
        "        # Return the minimum length, or 0 if no valid subarray found\n",
        "        return min_length if min_length != float('inf') else 0\n",
        "\n",
        "# Example usage\n",
        "solution = Solution()\n",
        "result = solution.min_subarray_length(target=6, nums=[2,3,1,2,4,3])\n",
        "print(f\"Minimum subarray length: {result}\")\n"
      ],
      "metadata": {
        "colab": {
          "base_uri": "https://localhost:8080/"
        },
        "id": "MnsITTmvQi3w",
        "outputId": "25c53405-450b-499e-86cd-09f56077ac25"
      },
      "execution_count": null,
      "outputs": [
        {
          "output_type": "stream",
          "name": "stdout",
          "text": [
            "Minimum subarray length: 2\n"
          ]
        }
      ]
    },
    {
      "cell_type": "markdown",
      "source": [
        "## Add two non-empty linked lists"
      ],
      "metadata": {
        "id": "p-BUM1y4BmWJ"
      }
    },
    {
      "cell_type": "code",
      "source": [
        "# Definition for singly-linked list.\n",
        "class ListNode:\n",
        "    def __init__(self, val=0, next=None):\n",
        "        self.val = val\n",
        "        self.next = next\n",
        "\n",
        "class Solution:\n",
        "    def addTwoNumbers(self, l1, l2):\n",
        "        dummy = ListNode(0)\n",
        "        current = dummy\n",
        "        carry = 0\n",
        "\n",
        "        while l1 or l2 or carry:\n",
        "            # Get values\n",
        "            v1 = l1.val if l1 else 0\n",
        "            v2 = l2.val if l2 else 0\n",
        "\n",
        "            # Compute sum\n",
        "            val = v1 + v2 + carry\n",
        "            carry = val // 10\n",
        "            val = val % 10\n",
        "\n",
        "            # Create new node\n",
        "            current.next = ListNode(val)\n",
        "            current = current.next\n",
        "\n",
        "            # Move to next nodes\n",
        "            l1 = l1.next if l1 else None\n",
        "            l2 = l2.next if l2 else None\n",
        "\n",
        "        return dummy.next\n",
        "\n",
        "# Helper function to create a linked list from a list of values\n",
        "def create_linked_list(values):\n",
        "    dummy = ListNode(0)\n",
        "    current = dummy\n",
        "    for val in values:\n",
        "        current.next = ListNode(val)\n",
        "        current = current.next\n",
        "    return dummy.next\n",
        "\n",
        "# Helper function to convert a linked list to a list\n",
        "def linked_list_to_list(head):\n",
        "    result = []\n",
        "    current = head\n",
        "    while current:\n",
        "        result.append(current.val)\n",
        "        current = current.next\n",
        "    return result\n",
        "\n",
        "# Test the solution\n",
        "sol = Solution()\n",
        "\n",
        "# Test case 1: 342 + 465 = 807\n",
        "l1 = create_linked_list([2, 4, 3])\n",
        "l2 = create_linked_list([5, 6, 4])\n",
        "result = sol.addTwoNumbers(l1, l2)\n",
        "print(linked_list_to_list(result))  # Expected: [7, 0, 8]"
      ],
      "metadata": {
        "colab": {
          "base_uri": "https://localhost:8080/"
        },
        "id": "2_X5SVWl-K2X",
        "outputId": "db9d7108-1b84-4b8b-944e-da681239f9a5"
      },
      "execution_count": null,
      "outputs": [
        {
          "output_type": "stream",
          "name": "stdout",
          "text": [
            "[7, 0, 8]\n"
          ]
        }
      ]
    }
  ]
}